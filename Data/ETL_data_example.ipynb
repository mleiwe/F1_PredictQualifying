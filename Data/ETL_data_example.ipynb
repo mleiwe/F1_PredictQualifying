{
 "cells": [
  {
   "cell_type": "markdown",
   "metadata": {},
   "source": [
    "# Example Notebook to Load data\n",
    "This is an example notebook to load the data from one event that is available for use to build a model.\n",
    "\n",
    "Some things to bear in mind...\n",
    "* Ergast is being phased out. Not sure when fastf1 will work out an alternative\n",
    "* fastf1 is relatively verbose, there are a lot of messages, and the load time is quite slow.\n",
    "* Therefore, for the full data, I ran the process on a Colab notebook so it would just run overnight without messing with my computer. You can see my notebook [here](https://colab.research.google.com/drive/1SXxNhf1jw_AJiVZXRLo4jTUCyytUrLwH?usp=sharing)"
   ]
  },
  {
   "cell_type": "markdown",
   "metadata": {},
   "source": [
    "## Libraries needed\n",
    "Aside from the `FastF1_DataAccess` module that I've written you'll need pandas and numpy. The `FastF1_DataAccess` utilises `fastf1` which in turn utilises `Ergast` to access historic data. Please see the top level `requirements.txt` file to get the necessary libraries"
   ]
  },
  {
   "cell_type": "code",
   "execution_count": null,
   "metadata": {},
   "outputs": [],
   "source": [
    "import pandas as pd\n",
    "import numpy as np\n",
    "from FastF1_DataAccess import fastf1_extract\n",
    "from FastF1_DataAccess import fastf1_transform\n",
    "from FastF1_DataAccess import fastf1_load"
   ]
  },
  {
   "cell_type": "markdown",
   "metadata": {},
   "source": [
    "## View the list of conventional events\n",
    "In this case we are just going to view the conventional events from this current year (2024), we are ignoring practice sesssions and also any events that have sprint races"
   ]
  },
  {
   "cell_type": "code",
   "execution_count": null,
   "metadata": {},
   "outputs": [],
   "source": [
    "year = 2024\n",
    "conventional_events = fastf1_extract.mnl_identify_conventional_events(year)\n",
    "conventional_events"
   ]
  },
  {
   "cell_type": "markdown",
   "metadata": {},
   "source": [
    "We can see we have a range of events to choose from here. For now let's just pick the first event Bahrain"
   ]
  },
  {
   "cell_type": "markdown",
   "metadata": {},
   "source": [
    "## Create and save the dataframe as a csv"
   ]
  },
  {
   "cell_type": "code",
   "execution_count": null,
   "metadata": {},
   "outputs": [],
   "source": [
    "base_folder = \"./\"\n",
    "event_num = 0 #Use the index number\n",
    "\n",
    "filename = f\"{year}_round_{event_num}_{conventional_events.iloc[event_num]['Country']}_{conventional_events.iloc[event_num]['Location']}.csv\"\n",
    "event_df = fastf1_load.mnl_Extract_Event(year,event_num,conventional_events)\n",
    "if not event_df.empty: #mnl_Extract_Event will produce an empty dataframe if there is an error within the fastf1 databaase so I've ignored it\n",
    "    event_df.to_csv(base_folder + filename)\n",
    "    event_df"
   ]
  }
 ],
 "metadata": {
  "language_info": {
   "name": "python"
  }
 },
 "nbformat": 4,
 "nbformat_minor": 2
}
